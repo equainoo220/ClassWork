{
 "cells": [
  {
   "cell_type": "code",
   "execution_count": 3,
   "id": "32439932-ac6a-4231-a8e9-06644e763cca",
   "metadata": {},
   "outputs": [
    {
     "name": "stdout",
     "output_type": "stream",
     "text": [
      "3600\n",
      "86400\n",
      "24.0\n"
     ]
    },
    {
     "data": {
      "text/plain": [
       "24"
      ]
     },
     "execution_count": 3,
     "metadata": {},
     "output_type": "execute_result"
    }
   ],
   "source": [
    "#1 answer 3600\n",
    "secondsPerMinute = 60\n",
    "minutesPerHour = 60  \n",
    "\n",
    "print(secondsPerMinute*minutesPerHour)\n",
    "\n",
    "#2 Answer 3600\n",
    "\n",
    "seconds_per_hour = 3600\n",
    "\n",
    "#3 Answer 86400\n",
    "print(seconds_per_hour*24)\n",
    "\n",
    "#4\n",
    "seconds_per_day = seconds_per_hour*24\n",
    "\n",
    "#5 Answer 24.0 \n",
    "print(seconds_per_day/seconds_per_hour)\n",
    "\n",
    "#6 answer the difference is there is no .0, but 24=24\n",
    "seconds_per_day//seconds_per_hour"
   ]
  },
  {
   "cell_type": "code",
   "execution_count": null,
   "id": "af6e1d00-3f86-463e-a9a9-0d1f18a9492f",
   "metadata": {},
   "outputs": [],
   "source": []
  }
 ],
 "metadata": {
  "kernelspec": {
   "display_name": "anaconda-panel-2023.05-py310",
   "language": "python",
   "name": "conda-env-anaconda-panel-2023.05-py310-py"
  },
  "language_info": {
   "codemirror_mode": {
    "name": "ipython",
    "version": 3
   },
   "file_extension": ".py",
   "mimetype": "text/x-python",
   "name": "python",
   "nbconvert_exporter": "python",
   "pygments_lexer": "ipython3",
   "version": "3.11.5"
  }
 },
 "nbformat": 4,
 "nbformat_minor": 5
}
