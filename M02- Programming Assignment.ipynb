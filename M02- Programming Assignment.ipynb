{
 "cells": [
  {
   "cell_type": "code",
   "execution_count": 13,
   "id": "38a6df7b-2512-4a49-b99c-29a023d6d484",
   "metadata": {},
   "outputs": [
    {
     "name": "stdin",
     "output_type": "stream",
     "text": [
      "Enter any number:  3\n"
     ]
    },
    {
     "name": "stdout",
     "output_type": "stream",
     "text": [
      "Too low\n"
     ]
    },
    {
     "name": "stdin",
     "output_type": "stream",
     "text": [
      "Enter number again:  5\n"
     ]
    },
    {
     "name": "stdout",
     "output_type": "stream",
     "text": [
      "Too low\n"
     ]
    },
    {
     "name": "stdin",
     "output_type": "stream",
     "text": [
      "Enter number again:  4\n"
     ]
    },
    {
     "name": "stdout",
     "output_type": "stream",
     "text": [
      "Too low\n"
     ]
    },
    {
     "name": "stdin",
     "output_type": "stream",
     "text": [
      "Enter number again:  2\n"
     ]
    },
    {
     "name": "stdout",
     "output_type": "stream",
     "text": [
      "you guessed it right!!\n"
     ]
    }
   ],
   "source": [
    "#4.1\n",
    "\n",
    "import random\n",
    "secret = random.randrange(1,10)\n",
    "guess = int(input(\"Enter any number: \"))\n",
    "while n!= guess:\n",
    "    if guess < secret:\n",
    "        print(\"Too low\")\n",
    "        guess = int(input(\"Enter number again: \"))\n",
    "    elif guess > secret:\n",
    "        print(\"Too high!\")\n",
    "        guess = int(input(\"Enter number again: \"))\n",
    "    else:\n",
    "      break\n",
    "print(\"you guessed it right!!\")"
   ]
  },
  {
   "cell_type": "code",
   "execution_count": 6,
   "id": "c65ed501-c537-4384-b290-5db287702607",
   "metadata": {},
   "outputs": [
    {
     "name": "stdout",
     "output_type": "stream",
     "text": [
      "cherry\n"
     ]
    }
   ],
   "source": [
    "#4.2\n",
    "\n",
    "small = True\n",
    "green = False\n",
    "\n",
    "if small and green:\n",
    "    print(\"pea\")\n",
    "elif small and not green:\n",
    "    print(\"cherry\")\n",
    "elif not small and green:\n",
    "    print(\"watermelon\")\n",
    "elif not small and not green:\n",
    "    print(\"pumpkin\")"
   ]
  },
  {
   "cell_type": "code",
   "execution_count": 4,
   "id": "0c81879e-f3e5-4929-822a-59bf92ab13ad",
   "metadata": {},
   "outputs": [
    {
     "name": "stdout",
     "output_type": "stream",
     "text": [
      "3\n",
      "2\n",
      "1\n",
      "0\n"
     ]
    }
   ],
   "source": [
    "#6.1\n",
    "\n",
    "myList = [3, 2, 1, 0]\n",
    "\n",
    "for item in myList:\n",
    "    print (item)"
   ]
  },
  {
   "cell_type": "code",
   "execution_count": 24,
   "id": "0d6b8433-04a7-46e9-bf85-335cdb6a4b93",
   "metadata": {},
   "outputs": [],
   "source": [
    "#6.2\n",
    "\n",
    "def guess_me(guess_me):\n",
    "    if guess_me < 7: \n",
    "        print('too low')\n",
    "    elif guess_me > 7:\n",
    "        print('too high')\n",
    "    else:\n",
    "        print('just right')\n"
   ]
  },
  {
   "cell_type": "code",
   "execution_count": 22,
   "id": "9487c108-4d99-4453-a8d7-48cabe18a453",
   "metadata": {},
   "outputs": [
    {
     "name": "stdout",
     "output_type": "stream",
     "text": [
      "too low\n",
      "too low\n",
      "too low\n",
      "too low\n",
      "too low\n",
      "found it !\n"
     ]
    }
   ],
   "source": [
    "#6.3\n",
    "\n",
    "guess_me=5 \n",
    "for number in range(10):     \n",
    "    if number < guess_me:         \n",
    "        print(\"too low\")     \n",
    "    elif number == guess_me:         \n",
    "        print(\"found it !\")         \n",
    "        break     \n",
    "    else:         \n",
    "        print(\"oops\")         \n",
    "        break"
   ]
  },
  {
   "cell_type": "code",
   "execution_count": null,
   "id": "36a557e3-8915-4594-bad1-8d62ea87d70f",
   "metadata": {},
   "outputs": [],
   "source": []
  }
 ],
 "metadata": {
  "kernelspec": {
   "display_name": "anaconda-panel-2023.05-py310",
   "language": "python",
   "name": "conda-env-anaconda-panel-2023.05-py310-py"
  },
  "language_info": {
   "codemirror_mode": {
    "name": "ipython",
    "version": 3
   },
   "file_extension": ".py",
   "mimetype": "text/x-python",
   "name": "python",
   "nbconvert_exporter": "python",
   "pygments_lexer": "ipython3",
   "version": "3.11.5"
  }
 },
 "nbformat": 4,
 "nbformat_minor": 5
}
