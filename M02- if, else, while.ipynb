{
 "cells": [
  {
   "cell_type": "code",
   "execution_count": 5,
   "id": "eb07e236-3de4-4163-9295-49a7381f4360",
   "metadata": {},
   "outputs": [
    {
     "name": "stdin",
     "output_type": "stream",
     "text": [
      "Enter the student's last name (or 'ZZZ' to quit):  Duncan \n",
      "Enter the student's first name:  M\n",
      "Enter the student's GPA:  3.8\n",
      "Enter the student's last name (or 'ZZZ' to quit):  Magan\n",
      "Enter the student's first name:  S\n",
      "Enter the student's GPA:  3.4\n",
      "Enter the student's last name (or 'ZZZ' to quit):  ZZZ\n"
     ]
    },
    {
     "name": "stdout",
     "output_type": "stream",
     "text": [
      "M Duncan  has made the Dean's List.\n",
      "S Magan has made the Honor Roll.\n"
     ]
    }
   ],
   "source": [
    "#Madison Clary \n",
    "#Deans List vs. Honor Roll. \n",
    "#This application will check a students GPA and place them on the deans list or the honor roll. \n",
    "# Initialize lists to store student names and GPAs\n",
    "\n",
    "\n",
    "student_names = []\n",
    "student_gpas = []\n",
    "\n",
    "while True:\n",
    "    last_name = input(\"Enter the student's last name (or 'ZZZ' to quit): \")\n",
    "\n",
    "    if last_name == 'ZZZ':\n",
    "        break\n",
    "\n",
    "    first_name = input(\"Enter the student's first name: \")\n",
    "    gpa = float(input(\"Enter the student's GPA: \"))\n",
    "\n",
    "    # Add student information to lists\n",
    "    student_names.append((first_name, last_name))\n",
    "    student_gpas.append(gpa)\n",
    "\n",
    "# Test and print qualifications\n",
    "for i in range(len(student_names)):\n",
    "    first_name, last_name = student_names[i]\n",
    "    gpa = student_gpas[i]\n",
    "\n",
    "    if gpa >= 3.5:\n",
    "        print(f\"{first_name} {last_name} has made the Dean's List.\")\n",
    "    elif gpa >= 3.25:\n",
    "        print(f\"{first_name} {last_name} has made the Honor Roll.\")\n",
    "    else:\n",
    "        print(f\"{first_name} {last_name} does not qualify for any academic recognition list.\")"
   ]
  },
  {
   "cell_type": "code",
   "execution_count": null,
   "id": "79919f7b-f65f-4241-be4b-865f63b8f952",
   "metadata": {},
   "outputs": [],
   "source": []
  }
 ],
 "metadata": {
  "kernelspec": {
   "display_name": "anaconda-panel-2023.05-py310",
   "language": "python",
   "name": "conda-env-anaconda-panel-2023.05-py310-py"
  },
  "language_info": {
   "codemirror_mode": {
    "name": "ipython",
    "version": 3
   },
   "file_extension": ".py",
   "mimetype": "text/x-python",
   "name": "python",
   "nbconvert_exporter": "python",
   "pygments_lexer": "ipython3",
   "version": "3.11.5"
  }
 },
 "nbformat": 4,
 "nbformat_minor": 5
}
